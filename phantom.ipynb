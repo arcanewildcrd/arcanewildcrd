{
 "cells": [
  {
   "cell_type": "code",
   "execution_count": 1,
   "metadata": {},
   "outputs": [
    {
     "name": "stdout",
     "output_type": "stream",
     "text": [
      "Traceback (most recent call last):\n",
      "  File \"/home/katawera/.local/bin/pip\", line 5, in <module>\n",
      "    from pip._internal.cli.main import main\n",
      "  File \"/home/katawera/.local/lib/python3.10/site-packages/pip/_internal/cli/main.py\", line 11, in <module>\n",
      "    from pip._internal.cli.autocompletion import autocomplete\n",
      "  File \"/home/katawera/.local/lib/python3.10/site-packages/pip/_internal/cli/autocompletion.py\", line 10, in <module>\n",
      "    from pip._internal.cli.main_parser import create_main_parser\n",
      "  File \"/home/katawera/.local/lib/python3.10/site-packages/pip/_internal/cli/main_parser.py\", line 9, in <module>\n",
      "    from pip._internal.build_env import get_runnable_pip\n",
      "  File \"/home/katawera/.local/lib/python3.10/site-packages/pip/_internal/build_env.py\", line 15, in <module>\n",
      "    from pip._vendor.packaging.version import Version\n",
      "  File \"/home/katawera/.local/lib/python3.10/site-packages/pip/_vendor/packaging/version.py\", line 16, in <module>\n",
      "    from ._structures import Infinity, InfinityType, NegativeInfinity, NegativeInfinityType\n",
      "ModuleNotFoundError: No module named 'pip._vendor.packaging._structures'\n"
     ]
    }
   ],
   "source": [
    "!pip install pandas\n"
   ]
  }
 ],
 "metadata": {
  "kernelspec": {
   "display_name": "Python 3",
   "language": "python",
   "name": "python3"
  },
  "language_info": {
   "codemirror_mode": {
    "name": "ipython",
    "version": 3
   },
   "file_extension": ".py",
   "mimetype": "text/x-python",
   "name": "python",
   "nbconvert_exporter": "python",
   "pygments_lexer": "ipython3",
   "version": "3.10.12"
  }
 },
 "nbformat": 4,
 "nbformat_minor": 2
}
