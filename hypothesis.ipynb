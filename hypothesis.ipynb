{
 "cells": [
  {
   "cell_type": "markdown",
   "metadata": {},
   "source": [
    "###Katawera Noel Ephraim BSIT B27030"
   ]
  },
  {
   "cell_type": "code",
   "execution_count": 2,
   "metadata": {},
   "outputs": [],
   "source": [
    "#import libraries\n",
    "import pandas as pd\n",
    "import seaborn as sns\n",
    "import scipy.stats as stats\n"
   ]
  },
  {
   "cell_type": "code",
   "execution_count": 7,
   "metadata": {},
   "outputs": [],
   "source": [
    "#load dataset\n",
    "diamonds = pd.read_excel('diamonds_new.xlsx')"
   ]
  },
  {
   "cell_type": "code",
   "execution_count": 4,
   "metadata": {},
   "outputs": [
    {
     "name": "stdout",
     "output_type": "stream",
     "text": [
      "   price  carat      cut color clarity  depth  table     x     y     z\n",
      "0    326   0.23    Ideal     E     SI2   61.5   55.0  3.95  3.98  2.43\n",
      "1    326   0.21  Premium     E     SI1   59.8   61.0  3.89  3.84  2.31\n",
      "2    327   0.23     Good     E     VS1   56.9   65.0  4.05  4.07  2.31\n",
      "3    334   0.29  Premium     I     VS2   62.4   58.0  4.20  4.23  2.63\n",
      "4    335   0.31     Good     J     SI2   63.3   58.0  4.34  4.35  2.75\n",
      "<bound method DataFrame.info of        price  carat        cut color clarity  depth  table     x     y     z\n",
      "0        326   0.23      Ideal     E     SI2   61.5   55.0  3.95  3.98  2.43\n",
      "1        326   0.21    Premium     E     SI1   59.8   61.0  3.89  3.84  2.31\n",
      "2        327   0.23       Good     E     VS1   56.9   65.0  4.05  4.07  2.31\n",
      "3        334   0.29    Premium     I     VS2   62.4   58.0  4.20  4.23  2.63\n",
      "4        335   0.31       Good     J     SI2   63.3   58.0  4.34  4.35  2.75\n",
      "...      ...    ...        ...   ...     ...    ...    ...   ...   ...   ...\n",
      "53915   2757   0.72      Ideal     D     SI1   60.8   57.0  5.75  5.76  3.50\n",
      "53916   2757   0.72       Good     D     SI1   63.1   55.0  5.69  5.75  3.61\n",
      "53917   2757   0.70  Very Good     D     SI1   62.8   60.0  5.66  5.68  3.56\n",
      "53918   2757   0.86    Premium     H     SI2   61.0   58.0  6.15  6.12  3.74\n",
      "53919   2757   0.75      Ideal     D     SI2   62.2   55.0  5.83  5.87  3.64\n",
      "\n",
      "[53920 rows x 10 columns]>\n"
     ]
    }
   ],
   "source": [
    "#show tables and data\n",
    "print(diamonds.head())\n",
    "print(diamonds.info)"
   ]
  },
  {
   "cell_type": "code",
   "execution_count": 9,
   "metadata": {},
   "outputs": [],
   "source": [
    "#prepare carat categories\n",
    "diamonds['CaratCategory'] = pd.cut(diamonds[\"carat\"], bins=[0, 1, 2, 3, 4, 5], labels=['0-1' , '1-2', '2-3', '3-4', '4-5'])"
   ]
  },
  {
   "cell_type": "code",
   "execution_count": 10,
   "metadata": {},
   "outputs": [
    {
     "name": "stdout",
     "output_type": "stream",
     "text": [
      "The test between 0-1, and 1-2: T-statistic = 0.0, p-value = 1.0\n",
      "The test between 0-1, and 2-3: T-statistic = 0.0, p-value = 1.0\n",
      "The test between 0-1, and 3-4: T-statistic = 0.0, p-value = 1.0\n",
      "The test between 0-1, and 4-5: T-statistic = 0.0, p-value = 1.0\n",
      "The test between 0-1, and nan: T-statistic = 0.0, p-value = 1.0\n",
      "The test between 1-2, and 2-3: T-statistic = 0.0, p-value = 1.0\n",
      "The test between 1-2, and 3-4: T-statistic = 0.0, p-value = 1.0\n",
      "The test between 1-2, and 4-5: T-statistic = 0.0, p-value = 1.0\n",
      "The test between 1-2, and nan: T-statistic = 0.0, p-value = 1.0\n",
      "The test between 2-3, and 3-4: T-statistic = 0.0, p-value = 1.0\n",
      "The test between 2-3, and 4-5: T-statistic = 0.0, p-value = 1.0\n",
      "The test between 2-3, and nan: T-statistic = 0.0, p-value = 1.0\n",
      "The test between 3-4, and 4-5: T-statistic = 0.0, p-value = 1.0\n",
      "The test between 3-4, and nan: T-statistic = 0.0, p-value = 1.0\n",
      "The test between 4-5, and nan: T-statistic = 0.0, p-value = 1.0\n"
     ]
    }
   ],
   "source": [
    "#then now differentiate the categories\n",
    "from scipy import stats\n",
    "categories = diamonds['CaratCategory'].unique()\n",
    "for i in range(len(categories)):\n",
    "    for j in range(i + 1, len(categories)):\n",
    "        group_1 = diamonds[diamonds['CaratCategory']== categories[i]]['price']\n",
    "        group_2 = diamonds[diamonds['CaratCategory']== categories[i]]['price']\n",
    "        t_stat, p_value = stats.ttest_ind(group_1, group_2)\n",
    "        print(f\"The test between {categories[i]}, and {categories[j]}: T-statistic = {t_stat}, p-value = {p_value}\")"
   ]
  }
 ],
 "metadata": {
  "kernelspec": {
   "display_name": ".venv",
   "language": "python",
   "name": "python3"
  },
  "language_info": {
   "codemirror_mode": {
    "name": "ipython",
    "version": 3
   },
   "file_extension": ".py",
   "mimetype": "text/x-python",
   "name": "python",
   "nbconvert_exporter": "python",
   "pygments_lexer": "ipython3",
   "version": "3.10.12"
  }
 },
 "nbformat": 4,
 "nbformat_minor": 2
}
