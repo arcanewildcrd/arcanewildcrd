{
 "cells": [
  {
   "cell_type": "markdown",
   "metadata": {},
   "source": [
    "##### KATAWERA NOEL EPHRAIM<BR>\n",
    "##### M24B13/013<BR>\n",
    "##### BSIT<BR>\n",
    "##### REMEDIAL TEST FOR PROBABILITY AND STATISTICS TEST1"
   ]
  },
  {
   "cell_type": "code",
   "execution_count": 1,
   "metadata": {},
   "outputs": [],
   "source": [
    "import pandas as pd\n",
    "import numpy as np\n",
    "from scipy import stats\n"
   ]
  },
  {
   "cell_type": "code",
   "execution_count": 6,
   "metadata": {},
   "outputs": [
    {
     "data": {
      "text/html": [
       "<div>\n",
       "<style scoped>\n",
       "    .dataframe tbody tr th:only-of-type {\n",
       "        vertical-align: middle;\n",
       "    }\n",
       "\n",
       "    .dataframe tbody tr th {\n",
       "        vertical-align: top;\n",
       "    }\n",
       "\n",
       "    .dataframe thead th {\n",
       "        text-align: right;\n",
       "    }\n",
       "</style>\n",
       "<table border=\"1\" class=\"dataframe\">\n",
       "  <thead>\n",
       "    <tr style=\"text-align: right;\">\n",
       "      <th></th>\n",
       "      <th>PID</th>\n",
       "      <th>CRIM</th>\n",
       "      <th>AC</th>\n",
       "      <th>INDUS</th>\n",
       "      <th>LS</th>\n",
       "      <th>PR</th>\n",
       "      <th>RM</th>\n",
       "      <th>AGE</th>\n",
       "      <th>DIS</th>\n",
       "      <th>RAD</th>\n",
       "      <th>PTRATIO</th>\n",
       "      <th>DMT</th>\n",
       "      <th>LSTAT</th>\n",
       "      <th>MO</th>\n",
       "      <th>TAX</th>\n",
       "    </tr>\n",
       "  </thead>\n",
       "  <tbody>\n",
       "    <tr>\n",
       "      <th>0</th>\n",
       "      <td>101</td>\n",
       "      <td>0.00632</td>\n",
       "      <td>18.0</td>\n",
       "      <td>2.31</td>\n",
       "      <td>0.0</td>\n",
       "      <td>0.538</td>\n",
       "      <td>6.575</td>\n",
       "      <td>65.2</td>\n",
       "      <td>4.0900</td>\n",
       "      <td>1.0</td>\n",
       "      <td>15.3</td>\n",
       "      <td>396.90</td>\n",
       "      <td>4.98</td>\n",
       "      <td>2.0</td>\n",
       "      <td>296.0</td>\n",
       "    </tr>\n",
       "    <tr>\n",
       "      <th>1</th>\n",
       "      <td>102</td>\n",
       "      <td>0.02731</td>\n",
       "      <td>0.0</td>\n",
       "      <td>7.07</td>\n",
       "      <td>0.0</td>\n",
       "      <td>0.469</td>\n",
       "      <td>6.421</td>\n",
       "      <td>78.9</td>\n",
       "      <td>4.9671</td>\n",
       "      <td>2.0</td>\n",
       "      <td>17.8</td>\n",
       "      <td>396.90</td>\n",
       "      <td>9.14</td>\n",
       "      <td>2.0</td>\n",
       "      <td>242.0</td>\n",
       "    </tr>\n",
       "    <tr>\n",
       "      <th>2</th>\n",
       "      <td>103</td>\n",
       "      <td>0.02729</td>\n",
       "      <td>0.0</td>\n",
       "      <td>7.07</td>\n",
       "      <td>0.0</td>\n",
       "      <td>0.469</td>\n",
       "      <td>7.185</td>\n",
       "      <td>61.1</td>\n",
       "      <td>4.9671</td>\n",
       "      <td>2.0</td>\n",
       "      <td>17.8</td>\n",
       "      <td>292.40</td>\n",
       "      <td>4.03</td>\n",
       "      <td>3.0</td>\n",
       "      <td>242.0</td>\n",
       "    </tr>\n",
       "    <tr>\n",
       "      <th>3</th>\n",
       "      <td>104</td>\n",
       "      <td>0.03237</td>\n",
       "      <td>0.0</td>\n",
       "      <td>2.18</td>\n",
       "      <td>0.0</td>\n",
       "      <td>0.458</td>\n",
       "      <td>6.998</td>\n",
       "      <td>45.8</td>\n",
       "      <td>6.0622</td>\n",
       "      <td>3.0</td>\n",
       "      <td>18.7</td>\n",
       "      <td>394.63</td>\n",
       "      <td>2.94</td>\n",
       "      <td>0.0</td>\n",
       "      <td>222.0</td>\n",
       "    </tr>\n",
       "    <tr>\n",
       "      <th>4</th>\n",
       "      <td>105</td>\n",
       "      <td>0.06905</td>\n",
       "      <td>0.0</td>\n",
       "      <td>2.18</td>\n",
       "      <td>0.0</td>\n",
       "      <td>0.458</td>\n",
       "      <td>7.147</td>\n",
       "      <td>54.2</td>\n",
       "      <td>6.0622</td>\n",
       "      <td>3.0</td>\n",
       "      <td>18.7</td>\n",
       "      <td>396.90</td>\n",
       "      <td>5.33</td>\n",
       "      <td>0.0</td>\n",
       "      <td>222.0</td>\n",
       "    </tr>\n",
       "  </tbody>\n",
       "</table>\n",
       "</div>"
      ],
      "text/plain": [
       "   PID     CRIM    AC  INDUS   LS     PR     RM   AGE     DIS  RAD  PTRATIO  \\\n",
       "0  101  0.00632  18.0   2.31  0.0  0.538  6.575  65.2  4.0900  1.0     15.3   \n",
       "1  102  0.02731   0.0   7.07  0.0  0.469  6.421  78.9  4.9671  2.0     17.8   \n",
       "2  103  0.02729   0.0   7.07  0.0  0.469  7.185  61.1  4.9671  2.0     17.8   \n",
       "3  104  0.03237   0.0   2.18  0.0  0.458  6.998  45.8  6.0622  3.0     18.7   \n",
       "4  105  0.06905   0.0   2.18  0.0  0.458  7.147  54.2  6.0622  3.0     18.7   \n",
       "\n",
       "      DMT  LSTAT   MO    TAX  \n",
       "0  396.90   4.98  2.0  296.0  \n",
       "1  396.90   9.14  2.0  242.0  \n",
       "2  292.40   4.03  3.0  242.0  \n",
       "3  394.63   2.94  0.0  222.0  \n",
       "4  396.90   5.33  0.0  222.0  "
      ]
     },
     "execution_count": 6,
     "metadata": {},
     "output_type": "execute_result"
    }
   ],
   "source": [
    "#load the dataset\n",
    "housing = pd.read_excel('HousingData.xlsx')\n",
    "housing.head()"
   ]
  },
  {
   "cell_type": "markdown",
   "metadata": {},
   "source": [
    "- partA. WE are comparing Uganda's average CRIM rate according to a small group(group 1) which is less than or equal to 0.7"
   ]
  },
  {
   "cell_type": "code",
   "execution_count": null,
   "metadata": {},
   "outputs": [
    {
     "data": {
      "text/plain": [
       "(count    316.000000\n",
       " mean       0.163673\n",
       " std        0.156883\n",
       " min        0.006320\n",
       " 25%        0.053690\n",
       " 50%        0.105215\n",
       " 75%        0.217835\n",
       " max        0.671910\n",
       " Name: CRIM, dtype: float64,\n",
       " np.float64(-5261.707882757563),\n",
       " np.float64(0.0))"
      ]
     },
     "execution_count": 16,
     "metadata": {},
     "output_type": "execute_result"
    }
   ],
   "source": [
    "from scipy.stats import ttest_1samp\n",
    "\n",
    "# Subset the dataset  into Group 1 CRIM\n",
    "group_1 = housing[housing['CRIM'] <= 0.7]['CRIM'].dropna()\n",
    "\n",
    "\n",
    "\n",
    "#gauging the mean of uganda against  Group 1 \n",
    "mean_uganda_crim = 46.6\n",
    "\n",
    "# Perform a one-sample t-test\n",
    "t_stat_uganda, p_value_uganda = ttest_1samp(group_1, mean_uganda_crim)\n",
    "\n",
    "#compute the values\n",
    "group_1_stats = group_1.describe()\n",
    "group_1_stats, t_stat_uganda, p_value_uganda\n"
   ]
  },
  {
   "cell_type": "markdown",
   "metadata": {},
   "source": [
    "- Its been revealed the in comparison to the total CRIM in uganda which is 46.6, the rate of the towns is relatively smaller showing that Uganda in general has a higher rate than the towns"
   ]
  },
  {
   "cell_type": "markdown",
   "metadata": {},
   "source": [
    "- partB. This is a comparison between the average CRIM in the United States and the and the rate of towns with larger rates more than 0.7"
   ]
  },
  {
   "cell_type": "code",
   "execution_count": 17,
   "metadata": {},
   "outputs": [
    {
     "data": {
      "text/plain": [
       "(count    188.000000\n",
       " mean       9.386828\n",
       " std       12.070678\n",
       " min        0.725800\n",
       " 25%        2.376082\n",
       " 50%        5.822580\n",
       " 75%       11.121175\n",
       " max       88.976200\n",
       " Name: CRIM, dtype: float64,\n",
       " np.float64(-45.22452831012455),\n",
       " np.float64(1.2411309085153895e-102))"
      ]
     },
     "execution_count": 17,
     "metadata": {},
     "output_type": "execute_result"
    }
   ],
   "source": [
    "# displaying mean for  the US against group 2\n",
    "mean_us_crim = 49.2\n",
    "\n",
    "#subset the dataset into  Group 2 using CRIM\n",
    "group_2 = housing[housing['CRIM'] > 0.7]['CRIM'].dropna()\n",
    "\n",
    "# Perform  a one-sample t-test\n",
    "t_stat_us, p_value_us = ttest_1samp(group_2, mean_us_crim)\n",
    "\n",
    "# Summary statistics for group 2\n",
    "group_2_stats = group_2.describe()\n",
    "group_2_stats, t_stat_us, p_value_us"
   ]
  },
  {
   "cell_type": "markdown",
   "metadata": {},
   "source": [
    "- The average rates of the towns is still far too low compared to the rate of the United States which is 49.2"
   ]
  }
 ],
 "metadata": {
  "kernelspec": {
   "display_name": "Python 3",
   "language": "python",
   "name": "python3"
  },
  "language_info": {
   "codemirror_mode": {
    "name": "ipython",
    "version": 3
   },
   "file_extension": ".py",
   "mimetype": "text/x-python",
   "name": "python",
   "nbconvert_exporter": "python",
   "pygments_lexer": "ipython3",
   "version": "3.13.0"
  }
 },
 "nbformat": 4,
 "nbformat_minor": 2
}
